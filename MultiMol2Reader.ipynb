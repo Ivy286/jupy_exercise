{
 "cells": [
  {
   "cell_type": "markdown",
   "metadata": {},
   "source": [
    "# Muliti-molecule mol2 reader using RDKit"
   ]
  },
  {
   "cell_type": "code",
   "execution_count": 1,
   "metadata": {},
   "outputs": [],
   "source": [
    "import os\n",
    "import pandas as pd\n",
    "\n",
    "from rdkit import Chem\n",
    "from rdkit.Chem import Draw,AllChem\n",
    "from rdkit.Chem.Draw import IPythonConsole"
   ]
  },
  {
   "cell_type": "code",
   "execution_count": 2,
   "metadata": {},
   "outputs": [],
   "source": [
    "# converts each text block into an RDKit molecule type molecule by using the Chem.MolFromMol2Block() of RDKit\n",
    "\n",
    "def Mol2MolSupplier(file=None,sanitize=True):\n",
    "    mols=[]\n",
    "    \n",
    "    with open(file, 'r') as f:\n",
    "        line =f.readline()\n",
    "        while not f.tell() == os.fstat(f.fileno()).st_size:\n",
    "            if line.startswith(\"@<TRIPOS>MOLECULE\"):\n",
    "                mol = []\n",
    "                mol.append(line)\n",
    "                line = f.readline()\n",
    "                while not line.startswith(\"@<TRIPOS>MOLECULE\"):\n",
    "                    mol.append(line)\n",
    "                    line = f.readline()\n",
    "                    if f.tell() == os.fstat(f.fileno()).st_size:\n",
    "                        mol.append(line)\n",
    "                        break\n",
    "                mol[-1] = mol[-1].rstrip() # removes blank line at file end\n",
    "                block = \",\".join(mol).replace(',','')\n",
    "                m = Chem.MolFromMol2Block(block,sanitize=sanitize)\n",
    "            mols.append(m)\n",
    "    return(mols)"
   ]
  },
  {
   "cell_type": "code",
   "execution_count": 3,
   "metadata": {},
   "outputs": [],
   "source": [
    "file_path = 'test.mol2'"
   ]
  },
  {
   "cell_type": "code",
   "execution_count": 4,
   "metadata": {},
   "outputs": [
    {
     "ename": "UnboundLocalError",
     "evalue": "local variable 'm' referenced before assignment",
     "output_type": "error",
     "traceback": [
      "\u001b[0;31m---------------------------------------------------------------------------\u001b[0m",
      "\u001b[0;31mUnboundLocalError\u001b[0m                         Traceback (most recent call last)",
      "\u001b[0;32m<ipython-input-4-88a14cdb535d>\u001b[0m in \u001b[0;36m<module>\u001b[0;34m\u001b[0m\n\u001b[0;32m----> 1\u001b[0;31m \u001b[0mdatabase\u001b[0m\u001b[0;34m=\u001b[0m\u001b[0mMol2MolSupplier\u001b[0m\u001b[0;34m(\u001b[0m\u001b[0mfile_path\u001b[0m\u001b[0;34m,\u001b[0m\u001b[0msanitize\u001b[0m\u001b[0;34m=\u001b[0m\u001b[0;32mTrue\u001b[0m\u001b[0;34m)\u001b[0m\u001b[0;34m\u001b[0m\u001b[0;34m\u001b[0m\u001b[0m\n\u001b[0m",
      "\u001b[0;32m<ipython-input-2-60a2955ad8ed>\u001b[0m in \u001b[0;36mMol2MolSupplier\u001b[0;34m(file, sanitize)\u001b[0m\n\u001b[1;32m     20\u001b[0m                 \u001b[0mblock\u001b[0m \u001b[0;34m=\u001b[0m \u001b[0;34m\",\"\u001b[0m\u001b[0;34m.\u001b[0m\u001b[0mjoin\u001b[0m\u001b[0;34m(\u001b[0m\u001b[0mmol\u001b[0m\u001b[0;34m)\u001b[0m\u001b[0;34m.\u001b[0m\u001b[0mreplace\u001b[0m\u001b[0;34m(\u001b[0m\u001b[0;34m','\u001b[0m\u001b[0;34m,\u001b[0m\u001b[0;34m''\u001b[0m\u001b[0;34m)\u001b[0m\u001b[0;34m\u001b[0m\u001b[0;34m\u001b[0m\u001b[0m\n\u001b[1;32m     21\u001b[0m                 \u001b[0mm\u001b[0m \u001b[0;34m=\u001b[0m \u001b[0mChem\u001b[0m\u001b[0;34m.\u001b[0m\u001b[0mMolFromMol2Block\u001b[0m\u001b[0;34m(\u001b[0m\u001b[0mblock\u001b[0m\u001b[0;34m,\u001b[0m\u001b[0msanitize\u001b[0m\u001b[0;34m=\u001b[0m\u001b[0msanitize\u001b[0m\u001b[0;34m)\u001b[0m\u001b[0;34m\u001b[0m\u001b[0;34m\u001b[0m\u001b[0m\n\u001b[0;32m---> 22\u001b[0;31m             \u001b[0mmols\u001b[0m\u001b[0;34m.\u001b[0m\u001b[0mappend\u001b[0m\u001b[0;34m(\u001b[0m\u001b[0mm\u001b[0m\u001b[0;34m)\u001b[0m\u001b[0;34m\u001b[0m\u001b[0;34m\u001b[0m\u001b[0m\n\u001b[0m\u001b[1;32m     23\u001b[0m     \u001b[0;32mreturn\u001b[0m\u001b[0;34m(\u001b[0m\u001b[0mmols\u001b[0m\u001b[0;34m)\u001b[0m\u001b[0;34m\u001b[0m\u001b[0;34m\u001b[0m\u001b[0m\n",
      "\u001b[0;31mUnboundLocalError\u001b[0m: local variable 'm' referenced before assignment"
     ]
    }
   ],
   "source": [
    "database=Mol2MolSupplier(file_path,sanitize=True)"
   ]
  },
  {
   "cell_type": "code",
   "execution_count": 5,
   "metadata": {},
   "outputs": [
    {
     "name": "stdout",
     "output_type": "stream",
     "text": [
      "48332\n"
     ]
    }
   ],
   "source": [
    "with open('test.mol2','r') as f:\n",
    "    print(os.fstat(f.fileno()).st_size)"
   ]
  },
  {
   "cell_type": "code",
   "execution_count": 6,
   "metadata": {},
   "outputs": [
    {
     "data": {
      "image/png": "[encoded data removed]",
      "text/plain": [
       "<rdkit.Chem.rdchem.Mol at 0x14f041e15e40>"
      ]
     },
     "execution_count": 6,
     "metadata": {},
     "output_type": "execute_result"
    }
   ],
   "source": [
    "from rdkit.Chem.rdmolfiles import MolFromMol2File, MolFromMol2Block\n",
    "mols = MolFromMol2File('test.mol2')\n",
    "mols"
   ]
  },
  {
   "cell_type": "code",
   "execution_count": 7,
   "metadata": {},
   "outputs": [
    {
     "data": {
      "text/plain": [
       "NoneType"
      ]
     },
     "execution_count": 7,
     "metadata": {},
     "output_type": "execute_result"
    }
   ],
   "source": [
    "mols = MolFromMol2Block('test.mol2')\n",
    "type(mols)"
   ]
  },
  {
   "cell_type": "code",
   "execution_count": 8,
   "metadata": {},
   "outputs": [],
   "source": [
    "file_path = 'test.mol2'\n",
    "mol2bloks = []\n",
    "all_names = []\n",
    "with open(file_path, 'r') as f:\n",
    "    s = \"\"\n",
    "    while True:\n",
    "        line = f.readline()\n",
    "        if not line:\n",
    "            mol2bloks.append(s)\n",
    "            break\n",
    "        elif line[0] == \"#\":\n",
    "            pass\n",
    "        elif (line == \"@<TRIPOS>MOLECULE\\n\") and (s != \"\"):\n",
    "            mol2bloks.append(s)\n",
    "            # print(\"mol2bloks: \",mol2bloks)\n",
    "            s = \"\"\n",
    "            f.seek(f.tell() - len(line))\n",
    "        else:\n",
    "            s = s + line\n",
    "            if s.endswith(\"@<TRIPOS>MOLECULE\\n\"):\n",
    "                name = f.readline()\n",
    "                # print(\"name: \",name)\n",
    "                all_names.append(name.strip())\n",
    "                f.seek(f.tell() - len(name))"
   ]
  },
  {
   "cell_type": "code",
   "execution_count": 9,
   "metadata": {},
   "outputs": [
    {
     "data": {
      "text/plain": [
       "7"
      ]
     },
     "execution_count": 9,
     "metadata": {},
     "output_type": "execute_result"
    }
   ],
   "source": [
    "len(mol2bloks)"
   ]
  },
  {
   "cell_type": "code",
   "execution_count": 10,
   "metadata": {},
   "outputs": [
    {
     "data": {
      "text/plain": [
       "['r3_gen_90025',\n",
       " 'r3_gen_9004',\n",
       " 'r3_gen_90097',\n",
       " 'r3_gen_90310',\n",
       " 'r3_gen_90373',\n",
       " 'r3_gen_90392',\n",
       " 'r3_gen_9045']"
      ]
     },
     "execution_count": 10,
     "metadata": {},
     "output_type": "execute_result"
    }
   ],
   "source": [
    "all_names"
   ]
  },
  {
   "cell_type": "code",
   "execution_count": 11,
   "metadata": {},
   "outputs": [
    {
     "data": {
      "text/plain": [
       "[<rdkit.Chem.rdchem.Mol at 0x14f041dd21c0>,\n",
       " <rdkit.Chem.rdchem.Mol at 0x14f041dd2b20>,\n",
       " <rdkit.Chem.rdchem.Mol at 0x14f041de4120>,\n",
       " <rdkit.Chem.rdchem.Mol at 0x14f041de40d0>,\n",
       " <rdkit.Chem.rdchem.Mol at 0x14f041de4030>,\n",
       " <rdkit.Chem.rdchem.Mol at 0x14f041de4170>,\n",
       " <rdkit.Chem.rdchem.Mol at 0x14f041dd2f30>]"
      ]
     },
     "execution_count": 11,
     "metadata": {},
     "output_type": "execute_result"
    }
   ],
   "source": [
    "mols = [Chem.MolFromMol2Block(i) for i in mol2bloks]\n",
    "mols"
   ]
  },
  {
   "cell_type": "code",
   "execution_count": 13,
   "metadata": {},
   "outputs": [
    {
     "data": {
      "image/png": "[encoded data removed]",
      "text/plain": [
       "<rdkit.Chem.rdchem.Mol at 0x14f041dd21c0>"
      ]
     },
     "execution_count": 13,
     "metadata": {},
     "output_type": "execute_result"
    }
   ],
   "source": [
    "mols[0]"
   ]
  },
  {
   "cell_type": "code",
   "execution_count": null,
   "metadata": {},
   "outputs": [],
   "source": []
  }
 ],
 "metadata": {
  "kernelspec": {
   "display_name": "Python 3",
   "language": "python",
   "name": "python3"
  },
  "language_info": {
   "codemirror_mode": {
    "name": "ipython",
    "version": 3
   },
   "file_extension": ".py",
   "mimetype": "text/x-python",
   "name": "python",
   "nbconvert_exporter": "python",
   "pygments_lexer": "ipython3",
   "version": "3.7.3"
  }
 },
 "nbformat": 4,
 "nbformat_minor": 2
}
